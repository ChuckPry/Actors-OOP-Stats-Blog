{
 "cells": [
  {
   "cell_type": "markdown",
   "metadata": {},
   "source": [
    "## Actors Object Oriented Programming and Probability Blog"
   ]
  },
  {
   "cell_type": "markdown",
   "metadata": {},
   "source": [
    "This blog and subsequent technical notebook displays the making of a dataset based on a past experince when I was auditoning in Hollywood.  I created the dataset so there was no cleaning that needed to be done.  I did, however add features to the dataset in pandas as the blog project went on.  I wanted to demonstrate how data science can be applied to a simple probability project.  I identified the participants and created all the features that would affect outcomes.  All work was done in python 3 making use of pandas and seaborn."
   ]
  },
  {
   "cell_type": "markdown",
   "metadata": {},
   "source": [
    "by Charles Pryor Jr."
   ]
  },
  {
   "cell_type": "markdown",
   "metadata": {},
   "source": [
    "[Linked In](https://www.linkedin.com/in/charlespryorjr/)  [Twitter](https://twitter.com/ChuckPryorJr1)"
   ]
  }
 ],
 "metadata": {
  "kernelspec": {
   "display_name": "Python 3",
   "language": "python",
   "name": "python3"
  },
  "language_info": {
   "codemirror_mode": {
    "name": "ipython",
    "version": 3
   },
   "file_extension": ".py",
   "mimetype": "text/x-python",
   "name": "python",
   "nbconvert_exporter": "python",
   "pygments_lexer": "ipython3",
   "version": "3.6.9"
  }
 },
 "nbformat": 4,
 "nbformat_minor": 4
}
